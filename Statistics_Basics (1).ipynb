{
  "nbformat": 4,
  "nbformat_minor": 0,
  "metadata": {
    "colab": {
      "provenance": []
    },
    "kernelspec": {
      "name": "python3",
      "display_name": "Python 3"
    },
    "language_info": {
      "name": "python"
    }
  },
  "cells": [
    {
      "cell_type": "markdown",
      "source": [
        "             **STATISTICS BASIC**"
      ],
      "metadata": {
        "id": "Xo2so2YHoaoj"
      }
    },
    {
      "cell_type": "markdown",
      "source": [
        "**1.What is statistics,and why is important?**"
      ],
      "metadata": {
        "id": "YTydvTkZpU_s"
      }
    },
    {
      "cell_type": "markdown",
      "source": [
        "- **What is Statistics?**\n",
        "\n",
        " Statistics involves the methodologies for gathering, reviewing, analyzing, and drawing conclusions from data. It can be broadly divided into two main categories:\n",
        "\n",
        " -** Descriptive Statistics:** This encompasses methods for summarizing and presenting data effectively, such as calculating means, medians, modes, and graphical representations like charts and histograms.\n",
        "\n",
        " **- Inferential Statistics:** This focuses on making predictions or inferences about a larger population based on a sample. It involves hypothesis testing and estimation.\n",
        "\n",
        "  The field of statistics provides tools that allow us to understand complex phenomena by transforming raw data into valuable insights, thus aiding in effective decision-making.\n",
        "\n",
        "     **Why is Statistics Important?**\n",
        "\n",
        " ** 1.Informed Decision-Making:** Statistics helps in making data-driven decisions rather than relying solely on intuition. For instance, businesses use statistical analyses to understand market trends, customer preferences, and optimize operations.\n",
        "\n",
        "**2.Predictive Analysis:** It enables forecasting of future events based on historical data, which is crucial in areas like finance, economics, and marketing. For example, a retail company might analyze past sales data to predict future demand for products.\n",
        "\n",
        "**3.Quality Control:** In manufacturing, statistics are used to monitor and improve product quality. Techniques such as Six Sigma apply statistical methods to reduce defects and improve processes.\n",
        "\n",
        "**4.Scientific Research:** Statistics is fundamental in research across various disciplines, from healthcare to social sciences. Through statistical methods, researchers can validate hypotheses, assess the effectiveness of treatments, and interpret survey results.\n",
        "\n",
        " **5.Risk Assessment:** Organizations and governments utilize statistical analysis to assess risks, determining the likelihood and impact of events which is essential for strategic planning and resource allocation.\n",
        "\n",
        "**6.Policy Development:** Statistics informs public policy decisions, helping policymakers analyze issues such as health outcomes, economic conditions, and demographic changes, thus enabling data-driven evaluations of policies and programs.\n",
        "\n",
        "**7.Social Understanding:** By analyzing statistics from surveys (such as census data), we can understand social dynamics, behavior, and trends within populations, helping to address social issues and improve welfare services.\n",
        "\n",
        "**8.Everyday Applications:** Statistics affect daily life. Whether tracking expenses in budgeting or interpreting sports statistics, statistical knowledge enhances our understanding of the world and improves decision-making."
      ],
      "metadata": {
        "id": "jNmPFOdAr4Bg"
      }
    },
    {
      "cell_type": "markdown",
      "source": [
        "**2.What are the two main types of statistics?**"
      ],
      "metadata": {
        "id": "DMGUOSqd0WB-"
      }
    },
    {
      "cell_type": "markdown",
      "source": [
        "- The two main types of statistics are descriptive statistics and inferential statistics, each serving distinct purposes in data analysis.\n",
        "\n",
        " **Descriptive Statistics**\n",
        "\n",
        "Descriptive statistics summarize and describe the features of a dataset. They provide a way to present data in a clear and understandable manner, focusing on central tendency and variability. Here are key aspects:\n",
        "\n",
        " **- Purpose:** To summarize and describe sample characteristics without making inferences about the population.\n",
        "\n",
        " **- Examples: **Measures such as mean, median, mode, range, variance, and standard deviation.\n",
        "\n",
        " **- Methods:** Data is often presented using charts, graphs, and tables to visualize the information\n",
        "\n",
        " **- Applications: **Often used in reports and presentations to provide a straightforward overview of the data being analyzed.\n",
        "\n",
        "**Example:** If a researcher collects test scores from a group of students, descriptive statistics would calculate the average score, the most common score (mode), and how much variation exists in those scores (standard deviation).\n",
        "\n",
        " **- Inferential Statistics**\n",
        "  Inferential statistics make predictions or inferences about a population based on sample data. This type of statistics employs probability theory to draw conclusions that extend beyond the immediate data at hand.\n",
        "\n",
        " **- Purpose:** To make generalizations about a population from a sample, test hypotheses, and predict future trends.\n",
        "\n",
        " **- xamples:** Techniques such as hypothesis testing, confidence intervals, regression analysis, and correlation coefficients.\n",
        "\n",
        " **- Methods: **These often include statistical modeling and sampling to provide valid conclusions about population parameters based on the sample observed\n",
        "\n",
        " **- Applications:** Commonly used in scientific research, market research, and policy-making to analyze trends and relationships between variables."
      ],
      "metadata": {
        "id": "DY29b0NE2ukH"
      }
    },
    {
      "cell_type": "markdown",
      "source": [
        "**3.what are descriptive statistics?**   "
      ],
      "metadata": {
        "id": "LdU3xkul2u8V"
      }
    },
    {
      "cell_type": "markdown",
      "source": [
        "- Descriptive statistics are statistical methods used to summarize, organize, and present data in a meaningful way, allowing for easier interpretation and understanding.\n",
        "\n",
        " **- Definition**\n",
        "\n",
        "   Descriptive statistics refers to techniques used to summarize and describe the main features of a dataset. These statistics help in organizing raw data into tables, charts, or numerical summaries to highlight patterns, trends, and anomalies without making inferences or predictions about larger populations."
      ],
      "metadata": {
        "id": "bQq-Ck9K_HHl"
      }
    },
    {
      "cell_type": "markdown",
      "source": [
        "**4.What is inferential statistics?**"
      ],
      "metadata": {
        "id": "34ON0Kt2_bbI"
      }
    },
    {
      "cell_type": "markdown",
      "source": [
        "- Inferential statistics is a branch of statistics that uses sample data to make generalizations, predictions, or inferences about a larger population.\n",
        "\n",
        "**- Definition and Purpose**\n",
        "\n",
        "Inferential statistics involves techniques that allow researchers to make inferences about a population based on sample data. This branch of statistics goes beyond mere description of data; it estimates population parameters, tests hypotheses, and predicts future trends. By analyzing a smaller, manageable sample, inferential statistics enables researchers to draw conclusions about the entire population without needing to examine every individual"
      ],
      "metadata": {
        "id": "VGE4Jm-2BSWl"
      }
    },
    {
      "cell_type": "markdown",
      "source": [
        "**5.What is sampling in statistics?**"
      ],
      "metadata": {
        "id": "7GQN2noHBXs-"
      }
    },
    {
      "cell_type": "markdown",
      "source": [
        " Sampling is a statistical technique used to select a subset of individuals from a larger population to make inferences about the whole population.\n",
        "\n",
        " **- Definition of Sampling**\n",
        "Sampling is the process of selecting a portion or subset of individuals or items from a larger population, typically to estimate characteristics of the entire population. Rather than conducting a complete census, sampling allows researchers to gather insights and make informed decisions more efficiently and cost-effectively. The goal is to capture a representative sample that reflects the diversity and variations of the larger group."
      ],
      "metadata": {
        "id": "ggAgdjZdBftk"
      }
    },
    {
      "cell_type": "markdown",
      "source": [
        "**6.What are the different types of sampling methods?**"
      ],
      "metadata": {
        "id": "Xn_I5n9VJxWb"
      }
    },
    {
      "cell_type": "markdown",
      "source": [
        "- Sampling methods are primarily categorized into probability sampling and non-probability sampling, each with unique techniques suitable for different research needs.\n",
        "\n",
        " **1. Probability Sampling**\n",
        "\n",
        "Probability sampling methods give every member of the population a known and equal chance to be selected. This enhances the representativeness of the sample and allows for generalization of results to the population.\n",
        "\n",
        "**Here are the main types:**\n",
        "\n",
        "**Simple Random Sampling:** Each member of the population has an equal chance of being selected. This can be done using random number generators or lottery methods to select individuals from the entire population.\n",
        "\n",
        "**Stratified Sampling:** The population is divided into distinct subgroups (strata) based on specific characteristics (e.g., age, gender) and random samples are drawn from each stratum to ensure representation of all subgroups.\n",
        "\n",
        "**Cluster Sampling: **The population is divided into clusters (groups), usually based on geographical areas. Entire clusters are randomly selected, and all individuals within those clusters are included in the sample. This method simplifies data collection when the population is widely dispersed.\n",
        "\n",
        "**Systematic Sampling:** Individuals are selected at regular intervals from a sorted list. For example, after randomly selecting a starting point, every nth individual is chosen for the sample. This approach is efficient and often easier to implement than simple random sampling.\n",
        "\n",
        "  **2. Non-Probability Sampling**\n",
        "\n",
        " Non-probability sampling methods do not provide all members of the population with a chance of selection, which may lead to biased samples. These methods are often easier and more cost-effective. The main types include:\n",
        "\n",
        "** Convenience Sampling:** Members are selected based on their easy availability and proximity to the researcher, which can introduce bias as it may not represent the entire population accurately.\n",
        "\n",
        "** Purposive Sampling:** Also known as judgmental sampling, participants are selected based on specific characteristics that are intended to be studied. This method is used when researchers have knowledge about the population and are looking to explore specific phenomena.\n",
        "\n",
        "** Snowball Sampling: **This method is used when studying hard-to-reach populations. Existing participants enlist new participants from their acquaintance networks, making it easier to recruit subjects who may be challenging to identify through traditional sampling methods.\n",
        "\n",
        "** Quota Sampling: **Researchers ensure that specific characteristics of the population are represented by setting quotas for different subgroups. However, selection within these groups is not random, which can lead to biases."
      ],
      "metadata": {
        "id": "cQmc6XqqJxyi"
      }
    },
    {
      "cell_type": "markdown",
      "source": [
        "**7.What is the difference between random and non-random sampling?**"
      ],
      "metadata": {
        "id": "Qn-0y9TLJyPI"
      }
    },
    {
      "cell_type": "markdown",
      "source": [
        "**Difference between random and non-random sampling**\n",
        "\n",
        "**\tRandom Sampling**\n",
        "\n",
        "**- Selection Method :** Each member has an equal chance of selection\n",
        "**-Bias Level : **Low bias, more representative\n",
        "**-Statistical Generalization :** Findings can generally be applied to the larger population.\n",
        "**-Complexity** : Generally straightforward, but may require more resources\n",
        "**-Types** : Simple random, stratified, cluster sampling\n",
        "\n",
        "**Non-Random Sampling **\n",
        "\n",
        "**-Selection Method** : Members are selected based on convenience or criteria\n",
        "**-Bias Level** : Higher bias, may not represent the entire population\n",
        "**_Statistical Generalization** : Limited generalizability; results may not apply to the whole population\n",
        "**-Complexity** : Often easier and less costly; quick to implement\n",
        "**-Types** : Convenience, purposive, quota, snowball sampling\n",
        "\n",
        "\n",
        "\n",
        "\n"
      ],
      "metadata": {
        "id": "RGwWD_7LJytY"
      }
    },
    {
      "cell_type": "markdown",
      "source": [
        "**8.Define and give example of qualitative and quantitative data.**"
      ],
      "metadata": {
        "id": "NU12NSeP8VyB"
      }
    },
    {
      "cell_type": "markdown",
      "source": [
        "**Definitions**\n",
        "\n",
        "**- Qualitative Data:** This type of data is descriptive and cannot be quantified. Qualitative data is often used to capture opinions, experiences, and feelings, and it deals with characteristics that can be observed but not measured. It can include categories or labels. For instance, responses from open-ended survey questions, interviews, or descriptions of phenomena fall under qualitative data.\n",
        "\n",
        "**- Quantitative Data:** This type of data is represented by numbers and can be measured or counted. Quantitative data allows for statistical analysis and can address questions like “how much,” “how many,” or “how often.” Examples include test scores, heights, weights, temperatures, and any data that can be represented numerically.\n",
        "\n",
        "**Examples**\n",
        "-**Examples of Qualitative Data:**\n",
        "Text descriptions from interviews (e.g., \"The product was user-friendly.\")\n",
        "Observational notes (e.g., noting the behavior of customers in a store)\n",
        "Categories such as gender (male, female, non-binary) or ethnicity (Caucasian, Hispanic, Asian)\n",
        "Preferences (e.g., favorite colors, feelings about a service)\n",
        "\n",
        "-**Examples of Quantitative Data:**\n",
        "The weight of an object, like 50 kilograms\n",
        "The number of students in a class, e.g., 30 students\n",
        "Temperature readings, e.g., 25°C\n",
        "Survey results showing percentages (e.g., 75% of respondents prefer coffee over tea)\n"
      ],
      "metadata": {
        "id": "8-Kp-wRx8WRJ"
      }
    },
    {
      "cell_type": "markdown",
      "source": [
        "**9.What are the different types of data instatistics?**"
      ],
      "metadata": {
        "id": "rNcXPKJTEzex"
      }
    },
    {
      "cell_type": "markdown",
      "source": [
        "In statistics, data is classified into several types: nominal, ordinal, discrete, continuous, interval, and ratio. Understanding these types is essential for proper data analysis and interpretation.\n",
        "\n",
        "**1. Qualitative Data (Categorical Data)**\n",
        "Qualitative data is descriptive and non-numeric. It is used to categorize or label variables without any quantitative value and is divided into two main types:\n",
        "\n",
        "**-Nominal Data: **This type consists of categories without a specific order. Examples include gender (male, female), hair color (brown, blonde), and nationality (American, Canadian). Nominal data can be summarized using frequency counts and visualized with bar charts or pie charts\n",
        "\n",
        "**-Ordinal Data:** Ordinal data has categories with a defined order but does not have evenly spaced intervals between them. For example, customer satisfaction ratings (poor, fair, good) or education levels (high school, college) are ordinal. Although they can be ranked, the difference between these ranks is not measurable\n",
        "\n",
        "**2. Quantitative Data (Numerical Data)**\n",
        "Quantitative data represents measurable quantities and is divided into two types:\n",
        "\n",
        "**-Discrete Data:** This type includes countable quantities, such as the number of students in a class or the number of cars sold. Each value is distinct and separate. Discrete data can be represented by whole numbers and are most effectively visualized with bar charts\n",
        "\n",
        "**-Continuous Data**: Continuous data can take on any value within a given range. This includes measurements like height, weight, or temperature, which can be expressed in decimal form. Continuous data is typically visualized using line graphs or histograms since it shows values that can change fluidly\n",
        "\n",
        "**3. Interval Data**\n",
        "Interval data is a type of continuous data that has meaningful distances between values, but no true zero point. For example, temperature in Celsius or Fahrenheit is interval data. We can say that 30°C is warmer than 20°C, but 0°C does not indicate a lack of temperature\n",
        "\n",
        "**4. Ratio Data**\n",
        "Ratio data has all the characteristics of interval data, but it also includes a meaningful zero point, which allows for a full range of mathematical operations. Examples include height, weight, and age. In this case, zero means none of the given attribute, allowing comparisons such as \"twice as heavy\"\n",
        "Intellspot\n"
      ],
      "metadata": {
        "id": "9-_GQNovE_4x"
      }
    },
    {
      "cell_type": "markdown",
      "source": [
        "**10.Explain nominal,ordinal,intrval,and ratio level of measurement.**"
      ],
      "metadata": {
        "id": "l0EPFjOhOKsd"
      }
    },
    {
      "cell_type": "markdown",
      "source": [
        "**1. Nominal Level**\n",
        "\n",
        "- **Definition:** The nominal level is the simplest form of measurement, consisting of labels or names that categorize qualitative data without any intrinsic order.\n",
        "\n",
        "- **Characteristics:**\n",
        "Categories are mutually exclusive: Each item belongs only to one category.\n",
        "No natural order or ranking exists among the categories.\n",
        "Data can only be counted; statistical operations like mean or median are not applicable.\n",
        "\n",
        "- **Examples:**\n",
        "Gender (male, female, non-binary)\n",
        "Eye color (blue, brown, green)\n",
        "Car brands (Toyota, Ford, Honda)\n",
        "\n",
        "**2. Ordinal Level**\n",
        "\n",
        "**Definition:** The ordinal level involves ordered categories where the order is meaningful, but the differences between the values are not consistent or quantifiable.\n",
        "\n",
        "**Characteristics:**\n",
        "Categories can be ranked in a meaningful order.\n",
        "The distance between categories is not necessarily equal (e.g., the difference in satisfaction between \"satisfied\" and \"very satisfied\" is not quantifiable).\n",
        "Both the mode and median can be calculated.\n",
        "\n",
        "**Examples:**\n",
        "Satisfaction ratings (very dissatisfied, dissatisfied, neutral, satisfied, very satisfied)\n",
        "Education levels (high school, bachelor's degree, master's degree)\n",
        "\n",
        "**3. Interval Level**\n",
        "\n",
        "**Definition:** The interval level includes ordered categories with equal intervals between them, but it does not have a true zero point.\n",
        "\n",
        "**Characteristics:**\n",
        "The order and exact differences between values are meaningful and consistent.\n",
        "There is no absolute zero; for instance, a temperature of 0 degrees Celsius does not represent a complete absence of temperature.\n",
        "Statistical operations such as addition and subtraction can be performed.\n",
        "\n",
        "**Examples:**\n",
        "\n",
        "Temperature measured in degrees Celsius or Fahrenheit\n",
        "IQ scores\n",
        "\n",
        "**4. Ratio Level**\n",
        "\n",
        "**Definition:** The ratio level is the highest level of measurement, incorporating all the features of the interval level but with a true zero point, allowing for all mathematical operations.\n",
        "\n",
        "**Characteristics:**\n",
        "Contains meaningful order, equal intervals, and an absolute zero that indicates the absence of the variable.\n",
        "Enables all statistical operations, including addition, subtraction, multiplication, and division.\n",
        "\n",
        "**Examples:**\n",
        "Height (e.g., centimeters or inches)\n",
        "Weight (e.g., kilograms or pounds)\n",
        "Age (e.g., years old"
      ],
      "metadata": {
        "id": "6BuOLfRQUg1p"
      }
    },
    {
      "cell_type": "markdown",
      "source": [
        "**11.What is the measure of central tendency?**"
      ],
      "metadata": {
        "id": "mqgHpO2YkcAe"
      }
    },
    {
      "cell_type": "markdown",
      "source": [
        "- Measures of central tendency are statistical values that represent the center point or typical value of a dataset, primarily including the mean, median, and mode.\n",
        "\n",
        "- **Definition**\n",
        "A measure of central tendency provides a single value that summarizes or represents the central point of a dataset. This is particularly useful in statistics, as it captures the essence of a dataset by conveying a typical or average value, making data easier to understand and interpret."
      ],
      "metadata": {
        "id": "c7MUwRXLk6_K"
      }
    },
    {
      "cell_type": "markdown",
      "source": [
        "**12.Define mean,median and mode?**"
      ],
      "metadata": {
        "id": "BSCiKLv3k4ZS"
      }
    },
    {
      "cell_type": "markdown",
      "source": [
        "**- Mean**\n",
        "\n",
        "  **Definition:** The mean is commonly referred to as the arithmetic average. It is calculated by summing all values in a dataset and dividing by the number of values.\n",
        "\n",
        "**- Median**\n",
        "\n",
        "  **Definition:** The median is the middle value in a dataset when arranged in ascending or descending order. It effectively divides the dataset into two equal halves.\n",
        "\n",
        "  **- Mode**\n",
        "\n",
        "  **Definition:** The mode is the value(s) that occurs most frequently in a dataset. A dataset can have one mode (unimodal), more than one mode (bimodal or multimodal), or no mode at all if all values appear with equal frequency.\n"
      ],
      "metadata": {
        "id": "mNksVTAJlvY5"
      }
    },
    {
      "cell_type": "markdown",
      "source": [
        "**13.What is the significance of the measure of central tendency?**"
      ],
      "metadata": {
        "id": "9_9m-28nJtjx"
      }
    },
    {
      "cell_type": "markdown",
      "source": [
        " Measures of central tendency, including the mean, median, and mode, are crucial in statistics as they provide a single value that summarizes or represents a dataset, facilitating better understanding and decision-making.\n",
        "\n",
        " - **Understanding Central Tendency**\n",
        "\n",
        "Measures of central tendency characterize the central point of a dataset, allowing for a concise representation of large quantities of information. The three primary measures are:\n",
        "\n",
        "**Mean: **The average value, calculated by summing all data points and dividing by the number of observations.\n",
        "\n",
        "**Median:** The middle value of a dataset when arranged in ascending or descending order.\n",
        "\n",
        "**Mode:** The most frequently occurring value within a dataset.\n",
        "\n",
        "- **Importance of Central Tendency Measures**\n",
        "\n",
        "**1.Data Summary: **Central tendency measures provide a summary statistic that offers a quick insight into the dataset's central value. For example, while analyzing income levels, the mean income can quickly indicate the average economic status of a population.\n",
        "\n",
        "**2.Simplifying Complex Data: **These measures allow for simplification of vast datasets into understandable terms. Individuals and organizations can make informed decisions based on a singular representative value rather than inspecting every data point. For instance, businesses can determine average sales figures to set realistic targets.\n",
        "\n",
        "**3.Comparison:** Central tendency measures enable comparisons between different data sets. For example, comparing average test scores between two classes can help educators assess performance levels and make necessary adjustments in teaching methods.\n",
        "\n",
        "**4.Identifying Trends:** In fields like economics and social sciences, central tendencies highlight trends over time. Economists might analyze median income trends to assess the economic well-being of a population, providing a clearer picture than individual income observations.\n",
        "\n",
        "**5.Handling Extremes:** The median is particularly useful in datasets with outliers since it is less affected by extreme values than the mean. For instance, in assessing house prices in a varied market, the median provides a more robust central value when few houses are significantly more expensive than the rest.\n",
        "\n",
        "**6.Decision-Making:** In business, understanding the typical performance represented by central tendency measures helps in strategic planning and policy-making. For instance, knowing the average cost of production aids entrepreneurs in setting competitive prices."
      ],
      "metadata": {
        "id": "8xiwqkvvM9Oi"
      }
    },
    {
      "cell_type": "markdown",
      "source": [
        "**14.what is variance and how is it calculated?**"
      ],
      "metadata": {
        "id": "0x_F9txpQmWk"
      }
    },
    {
      "cell_type": "markdown",
      "source": [
        "-  Variance is a measure of variability in statistics. It assesses the average squared difference between data values and the mean. Variance tells you the degree of spread in your data set. It is calculated by taking the differences between each number in the data set and the mean, then squaring the differences to make them positive, and finally dividing the sum of the squares by the number of values in the data set. The formula to find the variance of a dataset is σ2 = Σ (xi – μ)2 / N."
      ],
      "metadata": {
        "id": "vPeBSZFBiDJJ"
      }
    },
    {
      "cell_type": "markdown",
      "source": [
        "**15.What is standard deviation and why is it important?**"
      ],
      "metadata": {
        "id": "9s6gEQkAjYRU"
      }
    },
    {
      "cell_type": "markdown",
      "source": [
        "**- What is Standard Deviation?**\n",
        "\n",
        "In simple terms, standard deviation (SD) measures how spread out the values in a data set are. It is calculated as the square root of the variance, which provides insight into the average distance of each data point from the mean. A low standard deviation indicates that the data points are clustered closely around the mean, while a high standard deviation signals that the values are more dispersed\n",
        "Statology\n",
        "\n",
        "For example, if we have two sets of exam scores: Set A: {85, 86, 87, 88, 89} (SD ≈ 1.41) and Set B: {70, 80, 90, 100, 110} (SD ≈ 15.81). Both have the same average score of 88, but Set B has a much higher standard deviation, implying greater variability in scores\n",
        "\n",
        " **Why is Standard Deviation Important?**\n",
        "\n",
        "**Understanding Variability: **Standard deviation helps quantify how much variation exists in a dataset. It provides insight into the consistency of the values. For instance, a smaller SD indicates that the data points are generally similar, while a larger SD reveals a greater disparity in the dataset\n",
        "\n",
        "**Comparing Data Sets:** When comparing multiple datasets, standard deviation is crucial. Even if two datasets have the same mean, their standard deviations can highlight differences in variability. This helps draw more informed conclusions\n",
        "\n",
        "**Identifying Outliers:** Outliers are values that are significantly higher or lower than most of the data. Standard deviation can assist in identifying these outliers, as extreme values will generally contribute to a higher standard deviation a higher standard deviation\n",
        "\n",
        "**Risk Assessment: **In finance, standard deviation is a vital measure for assessing market volatility and investment risk. A higher standard deviation in asset returns implies higher risk, making it an essential tool in making investment decisions\n",
        "\n",
        "**Quality Control:** Industries utilize standard deviation for quality control. A small SD indicates that products are manufactured with consistent quality, while a large SD may signal defects or inconsistencies in production\n",
        "\n",
        "**Statistical Analysis: **It plays a foundational role in various statistical analyses and methods, such as hypothesis testing and creating confidence intervals, thereby enhancing the accuracy and reliability of interpretations drawn from data"
      ],
      "metadata": {
        "id": "jx7zFogEkK-Y"
      }
    },
    {
      "cell_type": "markdown",
      "source": [
        "**16.Define and explain the term range in statistics?**"
      ],
      "metadata": {
        "id": "OUkBQqfNifYg"
      }
    },
    {
      "cell_type": "markdown",
      "source": [
        " In statistics, the range is defined as the difference between the highest and lowest values in a dataset, providing a simple measure of data dispersion.\n",
        "\n",
        "- **How to Calculate Range**\n",
        "\n",
        "To calculate the range, follow these steps:\n",
        "Identify the Maximum Value: Determine the largest value in the dataset.\n",
        "Identify the Minimum Value: Determine the smallest value in the dataset.\n",
        "\n",
        "Apply the Formula:Example\n",
        "For the dataset:5,8,1,15,22\n",
        "5,8,12,15,22:\n",
        "Maximum Value = 22\n",
        "Minimum Value = 5\n",
        "Range = 22−5=17\n",
        "22−5=17\n",
        "\n",
        "**Significance of the Range**\n",
        "\n",
        "- Measure of Variability: The range offers an initial understanding of how spread out the values are. A larger range signifies greater variability in the dataset.\n",
        "\n",
        "- Useful in Data Analysis: It is often used in various fields such as finance, education, and quality control to give quick insights into data spread."
      ],
      "metadata": {
        "id": "PVVK18qEjwso"
      }
    },
    {
      "cell_type": "markdown",
      "source": [
        "**17. What is the difference between variance and standard deviation?**"
      ],
      "metadata": {
        "id": "132wMGO9oAj4"
      }
    },
    {
      "cell_type": "markdown",
      "source": [
        "\n",
        "**Definitions**\n",
        "\n",
        "- **Variance:** Variance is a statistical measurement that indicates how much the values in a dataset deviate from the mean. Specifically, it is calculated as the average of the squared differences between each data point and the mean. Variance is denoted by σ2 for population variance and s2 for sample variance.\n",
        "\n",
        "**Standard Deviation:** Standard deviation is simply the square root of the variance. It measures the average distance of each data point from the mean. It is represented by the symbol σ for population standard deviation and s for sample standard deviation.\n",
        "\n",
        "**Key Differences**\n",
        "\n",
        "**1.Calculation:**\n",
        "\n",
        "Variance is calculated as:\n",
        "σ2=1/N∑(Xi−μ)2\n",
        "\n",
        "**standard Deviation** is simply the square root of variance:σ=σ2 or s=s 2σ= σ 2 or s= s 2\n",
        "\n",
        "**2.Units of Measurement:**\n",
        "\n",
        "Variance is expressed in squared units of the data (e.g., if the data is in meters, variance is in square meters). This makes it less intuitive for practical interpretations.\n",
        "\n",
        "Standard Deviation, on the other hand, is expressed in the same units as the data, making it easier to understand and interpret in context (e.g., meters, dollars, etc.).\n",
        "\n",
        "**3.Interpretation:**\n",
        "\n",
        "**Variance** gives a numerical value representing the extent of variation within a dataset, but it can be difficult to conceptualize due to its squared units.\n",
        "\n",
        "**Standard Deviation **is more interpretable as it indicates the average distance of data points from the mean. A low standard deviation suggests that data points are close to the mean, while a high standard deviation indicates that they are spread out.\n"
      ],
      "metadata": {
        "id": "wfd8ziFUoSjN"
      }
    },
    {
      "cell_type": "markdown",
      "source": [
        "**18.What is skewness in a dataset?**"
      ],
      "metadata": {
        "id": "wFyRFNQEw-xs"
      }
    },
    {
      "cell_type": "markdown",
      "source": [
        "Skewness is a statistical measure that describes the asymmetry of a distribution, indicating whether data points fall to the left or right of the mean.\n",
        "\n",
        "**- Understanding Skewness**\n",
        "\n",
        "Skewness quantifies how much a distribution deviates from a normal distribution (which is symmetrical). A skewness value can be positive, negative, or zero, and each indicates a different shape of the data distribution:\n",
        "\n",
        "**Positive Skewness (Right Skew): **In this distribution, the tail extends further to the right, indicating that there are a few higher-value outliers. Commonly observed in income distributions, where a majority of people earn average or below-average incomes, while a small number earn significantly higher amounts. The relationship among mean, median, and mode in positive skewness is: Mean > Median > Mode.\n",
        "\n",
        "**Negative Skewness (Left Skew): **This indicates that the tail extends to the left, meaning there are a few lower-value outliers. An example is test scores on an easier exam where most students perform well, but a few score poorly. The relationship here is: Mean < Median < Mode.\n",
        "\n",
        "**Zero Skewness:** A distribution with zero skewness is symmetrical, with its shape resembling a perfect bell curve, meaning the data is evenly distributed around the mean. In this case, Mean = Median = Mode.\n"
      ],
      "metadata": {
        "id": "FFA-QOtgy6bC"
      }
    },
    {
      "cell_type": "markdown",
      "source": [
        "**19.What does it mean if a dataset is positivly or negetivly skewed?**"
      ],
      "metadata": {
        "id": "buXVophHxArX"
      }
    },
    {
      "cell_type": "markdown",
      "source": [
        "-  **What is Skewness?**\n",
        "\n",
        " Skewness measures the asymmetry of a distribution around its mean. It indicates whether the data points tend to lean towards the left (negative skew) or the right (positive skew). Understanding skewness is crucial in data analysis, as it can influence statistical modeling and interpretation.\n",
        "\n",
        " **Positive Skewness (Right Skew)**\n",
        "\n",
        " ** - Definition: **\n",
        " A positively skewed distribution has a longer tail on the right side. In such distributions, most data points cluster on the left with a few extreme values stretching towards the higher end.\n",
        "\n",
        "** - Characteristics:**\n",
        "      Mean > Median > Mode: The mean is typically pulled to the right by the extreme high values, making it greater than both the median and mode.\n",
        "\n",
        " **Examples: **\n",
        "      Income distribution, housing prices, and stock market returns often exhibit positive skewness where most individuals or properties have lower values, but a few have significantly higher values\n",
        "\n",
        " **-  Negative Skewness (Left Skew)**\n",
        "\n",
        " **Definition:**\n",
        "      A negatively skewed distribution has a longer tail on the left side. Here, most data points cluster towards the right, with fewer extreme low values pulling the distribution to the left.\n",
        "\n",
        "** Characteristics:**\n",
        "Mean < Median < Mode: The mean of the dataset is less than the median, which in turn is less than the mode, as it is dragged down by the lower values.\n",
        "\n",
        "**Examples: **Test scores on an easy exam, age at retirement, and certain health-related phenomena can demonstrate negative skewness, where most individuals perform well but a few score very low"
      ],
      "metadata": {
        "id": "U9xG4F29Wjki"
      }
    },
    {
      "cell_type": "markdown",
      "source": [
        "**20.Define and explain kurtosis?**"
      ],
      "metadata": {
        "id": "XAYqtmMsX3cC"
      }
    },
    {
      "cell_type": "markdown",
      "source": [
        " Kurtosis is a statistical measure that describes the shape of a distribution's tails in relation to its overall shape, particularly the propensity for extreme values or outliers.\n",
        "\n",
        "**- Understanding Kurtosis**\n",
        "\n",
        " Kurtosis specifically measures how much of the data in a distribution reside in the tails versus the center compared to a normal distribution. It provides insights into the behavior of a dataset, especially concerning outliers, extreme values, and comparative risks in financial contexts.\n",
        "\n",
        "** Types of Kurtosis**\n",
        "\n",
        "There are three main types of kurtosis, each indicating how the tails of a distribution differ from those of a normal distribution:\n",
        "\n",
        "**1.Mesokurtic:** This type indicates a normal distribution with a kurtosis value close to 3. It signifies moderate tails and a distribution similar to a normal bell curve. Mesokurtic distributions are considered the baseline for comparisons of kurtosis.\n",
        "\n",
        "**2.Leptokurtic: **Distributions with high kurtosis (greater than 3) fall into this category. Leptokurtic distributions have a sharper peak and fatter tails, indicating a higher probability of extreme values or outliers. This characteristic suggests that data points are clustered near the mean, leading to increased risks of extreme fluctuations. Financial investments exhibiting leptokurtic distributions may imply higher risk and potential for large returns or losses.\n",
        "\n",
        "**3.Platykurtic: **These distributions have a kurtosis value less than 3, indicating flatter peaks with thinner tails. Platykurtic distributions suggest fewer extreme values and outliers, leading to lower risk in the dataset. They demonstrate a more uniform spread of values around the mean, suggesting more stability."
      ],
      "metadata": {
        "id": "2vrKOktHYAlT"
      }
    },
    {
      "cell_type": "markdown",
      "source": [
        "**21.What is the purpose of covariance?**"
      ],
      "metadata": {
        "id": "KshyB0Z3p2F2"
      }
    },
    {
      "cell_type": "markdown",
      "source": [
        "- Covariance is a statistical measure used to evaluate the directional relationship between two random variables, indicating whether they tend to increase or decrease together.\n",
        "\n",
        "- **Definition of Covariance**\n",
        "Covariance measures how much two variables change together from their mean values. It can be calculated using the formula:\n",
        "     Cov(X,Y)=E[(X−μ X​)(Y−μ Y​)],\n",
        "where E denotes the expected value, and μXμ X​  and μYμ Y​  are the means of variables X and Y, respectively.\n",
        "\n",
        "- **Purpose and Significance**\n",
        "\n",
        "**1.Relationship Assessment: **Covariance helps to determine whether two variables move in the same direction (positive covariance) or in opposite directions (negative covariance). This directional relationship is crucial for understanding dependencies between variables in various applications.\n",
        "\n",
        "**2.Applications in Finance:** In finance, covariance is essential for portfolio management. It allows investors to understand how different assets move in relation to one another. For instance, if two stocks show a high positive covariance, they tend to rise and fall together, which can impact portfolio diversification. Conversely, a negative covariance might suggest that pairing those assets could balance overall risk.\n",
        "\n",
        "**3.Statistical Analysis:** Covariance is often used in regression analysis to explore the relationship between independent and dependent variables. A positive covariance indicates that higher values of one variable are correlated with higher values of the other, useful for predictive modeling.\n",
        "\n",
        "**4.Machine Learning and Data Analysis:** In machine learning, covariance plays a role in algorithms that involve dimensions reduction techniques like Principal Component Analysis (PCA). It helps analyze relationships between features and assists in identifying patterns within the data.\n"
      ],
      "metadata": {
        "id": "2U22c0QLp-Bi"
      }
    },
    {
      "cell_type": "markdown",
      "source": [
        "**22.What does correlation measure in statistics?**"
      ],
      "metadata": {
        "id": "UmZRs9LTtM7i"
      }
    },
    {
      "cell_type": "markdown",
      "source": [
        "Correlation measures the strength and direction of a linear relationship between two variables, indicating how changes in one variable are associated with changes in another.\n",
        "\n",
        "- **Understanding Correlation**\n",
        "\n",
        "Correlation is a statistical concept that quantifies the degree to which two variables are related. When we say two variables are correlated, it means that a change in one variable is related to a change in the other variable. However, it's important to note that correlation does not imply causation; a correlation between two variables does not mean that one variable causes the change in the other.\n",
        "\n",
        "- **The Correlation Coefficient**\n",
        "The strength and direction of the relationship between two variables are expressed in terms of a correlation coefficient, denoted as r. The correlation coefficient can take values between -1 and +1, where:\n",
        " - +1 indicates a perfect positive correlation: As one variable increases, the other variable also increases.\n",
        "\n",
        " - -1 indicates a perfect negative correlation: As one variable increases, the other variable decreases.\n",
        "\n",
        " - 0 indicates no correlation: There is no linear relationship between the variables."
      ],
      "metadata": {
        "id": "XTAmXGW-tyIc"
      }
    },
    {
      "cell_type": "markdown",
      "source": [
        "**23.What is the difference between covariance and correlation?**"
      ],
      "metadata": {
        "id": "omMp6Xl1ug6N"
      }
    },
    {
      "cell_type": "markdown",
      "source": [
        "Covariance measures how two variables change together, while correlation assesses both the strength and direction of their relationship, with correlation being a standardized version of covariance.\n",
        "\n",
        "**Understanding Covariance**\n",
        "\n",
        " **Definition:** Covariance indicates the degree to which two variables change together. A positive covariance suggests that as one variable increases, the other also tends to increase, while a negative covariance suggests an inverse relationship where an increase in one variable leads to a decrease in the other.\n",
        "\n",
        " Calculation: The formula for covariance between two variables X and Y is:\n",
        "Cov(X,Y)=∑(Xi−X)(YiYˉ)NCov(X,Y)= N∑(X i​ − Xˉ )(Y ​ − Yˉ )\n",
        "\n",
        "**Range:** Covariance values can range from −∞ to +∞,making interpretation difficult because the values depend heavily on the units of the variables being measured.\n",
        "\n",
        "**Use Case:** Covariance is useful in portfolio theory, where it helps in understanding how asset prices move together, which is critical for risk assessment and management.\n",
        "\n",
        "**Key Differences**\n",
        "\n",
        "- **Covariance**\n",
        "\n",
        "Definition - Measures how two variables vary together.\n",
        "\n",
        "Unit Dependency - Units depend on the variables' scales.\n",
        "\n",
        "Range - −∞ to +∞\n",
        "\n",
        "Interpretation - Difficult to interpret; only indicates direction.\n",
        "\n",
        "Sensitivity to Scale - Sensitive to changes in the scale of the variables.\n",
        "\n",
        "- **Correlation**\n",
        "\n",
        "Definition - Measures the strength and direction of the relationship between two variables.\n",
        "\n",
        "Unit Dependency - Unitless; standardized to allow easy comparison.\n",
        "\n",
        "Range - −1 to +1\n",
        "\n",
        "Interpretation - Easily interpretable; indicates both direction and strength.\n",
        "\n",
        "Sensitivity to Scale - Not affected by the scale; comparisons are valid across different datasets.\n",
        "\n"
      ],
      "metadata": {
        "id": "T2m64o-xu6jw"
      }
    },
    {
      "cell_type": "markdown",
      "source": [
        "**24.What are some real world applications of statistics?**"
      ],
      "metadata": {
        "id": "N4YV2l_23kXv"
      }
    },
    {
      "cell_type": "markdown",
      "source": [
        "Statistics play a crucial role in numerous fields, influencing decision-making and improving efficiency in healthcare, business, government, sports, and many more.\n",
        "\n",
        "** 1. Healthcare and Medical Research**\n",
        "Statistics are essential in healthcare for analyzing patient data, conducting clinical trials, and understanding disease prevalence. For instance, statistical models help predict disease outbreaks, evaluate the effectiveness of treatments, and tailor patient care. By analyzing data from clinical trials, researchers can determine the safety and efficacy of new medications before their widespread use\n",
        "\n",
        " **2. Business and Economics**\n",
        "In the business world, statistics drive market research, sales predictions, and customer analysis. Companies utilize statistical analysis to identify consumer trends, assess inventory needs, and evaluate the impact of marketing campaigns on sales. For example, businesses analyze sales data to forecast demand and optimize pricing strategies based on customer behavior\n",
        "StatAnalytica\n",
        "\n",
        " **3. Government and Public Policy**\n",
        "Governments rely on statistical data to make informed policy decisions, allocate resources, and plan public services. For instance, census data provides valuable insights into demographic changes, helping policymakers understand population dynamics and adjust public services accordingly. Statistics also inform decisions about healthcare policies and budget allocations for infrastructure development\n",
        "\n",
        " **4. Weather Forecasting**\n",
        "Meteorologists use statistical models to analyze historical weather data, which helps predict future weather patterns. By examining past trends in temperature, precipitation, and atmospheric conditions, statisticians can provide more accurate weather forecasts that are critical for agriculture, disaster preparedness, and daily planning\n",
        "Statology\n",
        "\n",
        "**5. Sports Analytics**\n",
        "Statistics play a dominant role in enhancing team performance and strategy in sports. Coaches and analysts utilize player performance statistics to make data-driven decisions regarding tactics and player lineups. Applications of sports analytics can involve tracking player stats, analyzing game footage, and using predictive models to assess future performance\n",
        "\n",
        "**6. Quality Control in Manufacturing**\n",
        "Manufacturers use statistical methods, such as Statistical Process Control (SPC), to monitor product quality and manufacturing efficiency. By analyzing production data, companies can identify defects early and implement corrective actions, thus ensuring that products meet quality standards consistently and reducing costs related to waste\n",
        "StatAnalytica\n",
        "\n",
        "**7. Environmental Science**\n",
        "Statistics are fundamental in environmental studies for assessing pollution levels, monitoring biodiversity, and developing conservation strategies. By analyzing environmental data, scientists can track changes in wildlife populations, evaluate the effectiveness of environmental policies, and promote sustainable practices\n"
      ],
      "metadata": {
        "id": "tzGYir_T4sr2"
      }
    },
    {
      "cell_type": "markdown",
      "source": [
        "           PRACTICAL"
      ],
      "metadata": {
        "id": "O6PEGifD50LP"
      }
    },
    {
      "cell_type": "markdown",
      "source": [
        "**1.How do you calculate the mean, median, and mode of dataset?**"
      ],
      "metadata": {
        "id": "nyWMyMZi56tB"
      }
    },
    {
      "cell_type": "markdown",
      "source": [
        "  **For Mean:**\n",
        "\n",
        "190, 153, 168, 179, 194, 153, 165, 187, 190, 170, 165, 189, 185, 153, 147, 161, 127, 180\n",
        "Number of observations = 18\n",
        "Mean = (Sum of observations) / (Number of observations)\n",
        "= (190+153+168+179+194+153+165+187+190+170+165+189+185+153+147 +161+127+180) / 18\n",
        "          = 2871/18\n",
        "          = 159.5\n",
        "   Therefore, the mean is 159.5\n",
        "\n",
        "   **For Median:**\n",
        "\n",
        "The ascending order of given observations is,\n",
        "127, 147, 153, 153, 153, 161, 165, 165, 168, 170, 179, 180, 185, 187, 189, 190, 190, 194\n",
        "Here, n = 18\n",
        "\n",
        "Median = 1/2 [(n/2) + (n/2 + 1)]th observation\n",
        "             = 1/2 [9 + 10]th observation\n",
        "             = 1/2 (168 + 170)\n",
        "             = 338/2\n",
        "             = 169\n",
        "\n",
        "Thus, the median is 169\n",
        "\n",
        "**For Mode:**\n",
        "The number with the highest frequency = 153\n",
        "Thus, mode = 153\n"
      ],
      "metadata": {
        "id": "MXrBV0HBw89N"
      }
    },
    {
      "cell_type": "markdown",
      "source": [
        "**2.Write a python program to compute the variance and standard deviation of a dataset.**"
      ],
      "metadata": {
        "id": "tYWib2ABLezK"
      }
    },
    {
      "cell_type": "code",
      "source": [
        "# Function to calculate variance\n",
        "def calculate_variance(data):\n",
        "    n = len(data)\n",
        "    mean = sum(data) / n\n",
        "    variance = sum((x - mean) ** 2 for x in data) / n\n",
        "    return variance\n",
        "\n",
        "# Function to calculate standard deviation\n",
        "def calculate_standard_deviation(data):\n",
        "    variance = calculate_variance(data)\n",
        "    standard_deviation = variance ** 0.5\n",
        "    return standard_deviation\n",
        "\n",
        "# Example dataset\n",
        "dataset = [10, 20, 30, 40, 50]\n",
        "\n",
        "# Calculating variance and standard deviation\n",
        "variance = calculate_variance(dataset)\n",
        "standard_deviation = calculate_standard_deviation(dataset)\n",
        "\n",
        "# Displaying the results\n",
        "print(f\"Variance: {variance}\")\n",
        "print(f\"Standard Deviation: {standard_deviation}\")"
      ],
      "metadata": {
        "colab": {
          "base_uri": "https://localhost:8080/"
        },
        "id": "qmtXirJhL3d3",
        "outputId": "b690d7b5-548e-4774-f992-2e10c3d21e47"
      },
      "execution_count": null,
      "outputs": [
        {
          "output_type": "stream",
          "name": "stdout",
          "text": [
            "Variance: 200.0\n",
            "Standard Deviation: 14.142135623730951\n"
          ]
        }
      ]
    },
    {
      "cell_type": "markdown",
      "source": [
        "**3.Create a dataset and classify it into nominal,ordinal,interval and ratio types.**"
      ],
      "metadata": {
        "id": "gfTaaoAmMIbr"
      }
    },
    {
      "cell_type": "markdown",
      "source": [
        "- To create a dataset and classify it into nominal, ordinal, interval, and ratio types, we’ll start by defining each type and providing examples.\n",
        "\n",
        "**1. Nominal Data**\n",
        "\n",
        "- **Definition:** Nominal data represents categories without any inherent order. Values can only be counted or categorized, and they are typically qualitative\n",
        "\n",
        "- **Example Dataset:**\n",
        "   - Hair Color:\n",
        "\n",
        " 1.Brown\n",
        " 2.Black\n",
        " 3.Blonde\n",
        " 4.Red\n",
        "\n",
        "** 2. Ordinal Data**\n",
        "Definition: Ordinal data represents categories with a defined order but does not have equal intervals between the values. This type is often used to rank items\n",
        "\n",
        "**Example Dataset:**\n",
        "\n",
        "  **Satisfaction Level:**\n",
        "\n",
        "1.Very Unsatisfied\n",
        "2.Unsatisfied\n",
        "3.Neutral\n",
        "4.Satisfied\n",
        "5.Very Satisfied\n",
        "\n",
        "**3. Interval Data**\n",
        "\n",
        "**Definition: **Interval data has ordered categories with equal distances between the values, but it lacks a true zero point. Arithmetic operations can be performed on this type\n",
        "\n",
        "**Example Dataset:**\n",
        "\n",
        "  - Temperature (in Celsius):\n",
        "\n",
        "1.Monday: 20°C\n",
        "2.Tuesday: 25°C\n",
        "3.Wednesday: 30°C\n",
        "\n",
        "**4. Ratio Data**\n",
        "\n",
        "**Definition:** Ratio data includes ordered categories with equal intervals and a true zero point. This allows for meaningful ratios and arithmetic operations\n",
        "\n",
        "**Example Dataset:**\n",
        "\n",
        "**Weight (in kilograms):**\n",
        "\n",
        "1.Item A: 2 kg\n",
        "2.Item B: 5 kg\n",
        "3.Item C: 10 kg\n",
        "\n",
        "**Summary of the Dataset Classification**\n",
        "\n",
        "1.Nominal: Hair Color (no order)\n",
        "2.Ordinal: Satisfaction Level (ranked order)\n",
        "3.Interval: Temperatures (equal intervals, no true zero)\n",
        "4.Ratio: Weights (equal intervals, true zero)\n",
        "\n",
        "     These classifications help in determining the appropriate statistical methods that can be applied to the data, providing clarity in analysis and interpretation.\n"
      ],
      "metadata": {
        "id": "kkJ5dVbVebVp"
      }
    },
    {
      "cell_type": "markdown",
      "source": [
        "**4.Implement sampling techniques like random sampling and stratified sampling.**"
      ],
      "metadata": {
        "id": "J7MRLgqchLeF"
      }
    },
    {
      "cell_type": "code",
      "source": [
        "import random\n",
        "\n",
        "# Assume population is represented as a list of participant IDs\n",
        "population = list(range(1, 1001))  # Participant IDs from 1 to 1000\n",
        "sample_size = 100  # Desired sample size\n",
        "sample = random.sample(population, sample_size)  # Random sampling\n",
        "print(sample)  # Outputs the randomly selected sample"
      ],
      "metadata": {
        "colab": {
          "base_uri": "https://localhost:8080/"
        },
        "id": "KVkKe5PLh3lX",
        "outputId": "aaa64cc1-17bb-4cb4-ebe8-78a3db64812b"
      },
      "execution_count": null,
      "outputs": [
        {
          "output_type": "stream",
          "name": "stdout",
          "text": [
            "[987, 539, 508, 629, 583, 122, 387, 490, 374, 873, 709, 544, 433, 745, 93, 596, 521, 659, 81, 60, 534, 42, 848, 899, 624, 795, 701, 299, 358, 902, 556, 322, 828, 993, 524, 946, 245, 41, 448, 493, 734, 779, 782, 286, 108, 44, 12, 867, 820, 66, 9, 998, 785, 931, 310, 863, 186, 294, 886, 337, 824, 576, 18, 635, 497, 461, 371, 475, 487, 763, 202, 541, 522, 973, 792, 62, 615, 549, 457, 850, 639, 802, 725, 591, 169, 520, 215, 119, 242, 270, 288, 407, 61, 810, 187, 653, 250, 721, 565, 632]\n"
          ]
        }
      ]
    },
    {
      "cell_type": "code",
      "source": [
        "import pandas as pd\n",
        "\n",
        "# Sample data representing a population with age groups\n",
        "data = {'ID': range(1, 401), 'Age_Group': ['15-20']*100 + ['21-30']*100 + ['31-40']*100 + ['41-50']*100}\n",
        "df = pd.DataFrame(data)\n",
        "\n",
        "# Stratified sampling\n",
        "stratified_sample = df.groupby('Age_Group').apply(lambda x: x.sample(n=25))  # Taking 25 samples from each group\n",
        "print(stratified_sample)  # Outputs the stratified sample"
      ],
      "metadata": {
        "colab": {
          "base_uri": "https://localhost:8080/"
        },
        "id": "5ef9-BHxiAh4",
        "outputId": "553eb8eb-6831-4faa-b5cc-b06d1b13ba62"
      },
      "execution_count": null,
      "outputs": [
        {
          "output_type": "stream",
          "name": "stdout",
          "text": [
            "                ID Age_Group\n",
            "Age_Group                   \n",
            "15-20     30    31     15-20\n",
            "          70    71     15-20\n",
            "          16    17     15-20\n",
            "          21    22     15-20\n",
            "          41    42     15-20\n",
            "...            ...       ...\n",
            "41-50     371  372     41-50\n",
            "          373  374     41-50\n",
            "          303  304     41-50\n",
            "          314  315     41-50\n",
            "          378  379     41-50\n",
            "\n",
            "[100 rows x 2 columns]\n"
          ]
        },
        {
          "output_type": "stream",
          "name": "stderr",
          "text": [
            "/tmp/ipython-input-2-1323250086.py:8: DeprecationWarning: DataFrameGroupBy.apply operated on the grouping columns. This behavior is deprecated, and in a future version of pandas the grouping columns will be excluded from the operation. Either pass `include_groups=False` to exclude the groupings or explicitly select the grouping columns after groupby to silence this warning.\n",
            "  stratified_sample = df.groupby('Age_Group').apply(lambda x: x.sample(n=25))  # Taking 25 samples from each group\n"
          ]
        }
      ]
    },
    {
      "cell_type": "markdown",
      "source": [
        "**5.Write a python function to calculate the range of a dataset.**"
      ],
      "metadata": {
        "id": "pPU-8zx0iUIB"
      }
    },
    {
      "cell_type": "code",
      "source": [
        "def calculate_range(data):\n",
        "    \"\"\"\n",
        "    Calculate the range of a dataset.\n",
        "\n",
        "    Parameters:\n",
        "    data (list): A list of numerical values.\n",
        "\n",
        "    Returns:\n",
        "    float: The range of the dataset (max - min).\n",
        "    \"\"\"\n",
        "    if not data:\n",
        "        raise ValueError(\"The dataset cannot be empty.\")\n",
        "\n",
        "    return max(data) - min(data)\n",
        "\n",
        "# Example usage:\n",
        "dataset = [10, 20, 30, 40, 50]\n",
        "print(\"Range of dataset:\", calculate_range(dataset))"
      ],
      "metadata": {
        "colab": {
          "base_uri": "https://localhost:8080/"
        },
        "id": "709MqyoxizYg",
        "outputId": "1b33d0b6-8530-4d8a-9545-bad7ab58b43d"
      },
      "execution_count": null,
      "outputs": [
        {
          "output_type": "stream",
          "name": "stdout",
          "text": [
            "Range of dataset: 40\n"
          ]
        }
      ]
    },
    {
      "cell_type": "markdown",
      "source": [
        "**6.Create a dataset and plot its histogram to visualize skewness.**"
      ],
      "metadata": {
        "id": "y-rVcSRfjsex"
      }
    },
    {
      "cell_type": "markdown",
      "source": [
        "**Step 1: Create the Dataset**\n",
        "\n",
        "To create a simple dataset, you can use NumPy to generate random data. Here’s an example of generating a right-skewed dataset using a normal distribution:"
      ],
      "metadata": {
        "id": "CSSMajKBmm1f"
      }
    },
    {
      "cell_type": "code",
      "source": [
        "import numpy as np\n",
        "import pandas as pd\n",
        "\n",
        "# Set the seed for reproducibility\n",
        "np.random.seed(42)\n",
        "\n",
        "# Generate a right-skewed dataset using exponential distribution\n",
        "data = np.random.exponential(scale=2, size=1000)\n",
        "\n",
        "# Create a DataFrame\n",
        "df = pd.DataFrame(data, columns=['values'])"
      ],
      "metadata": {
        "id": "Pk1E28fmnDZF"
      },
      "execution_count": null,
      "outputs": []
    },
    {
      "cell_type": "markdown",
      "source": [
        "**Step 2: Plot the Histogram**\n",
        "You can use Matplotlib or Seaborn to create a histogram of the dataset to visualize skewness.\n",
        "\n",
        "**Using Matplotlib**"
      ],
      "metadata": {
        "id": "sP2-bYYdn3uG"
      }
    },
    {
      "cell_type": "code",
      "source": [
        "import matplotlib.pyplot as plt\n",
        "\n",
        "# Plot the histogram\n",
        "plt.figure(figsize=(10, 6))\n",
        "plt.hist(df['values'], bins=30, color='skyblue', edgecolor='black')\n",
        "plt.title('Histogram of Values')\n",
        "plt.xlabel('Value')\n",
        "plt.ylabel('Frequency')\n",
        "plt.grid(axis='y', alpha=0.75)\n",
        "plt.show()"
      ],
      "metadata": {
        "colab": {
          "base_uri": "https://localhost:8080/",
          "height": 564
        },
        "id": "PubGKRFQoG8t",
        "outputId": "d57e1982-d429-40ac-898e-77f6919ac489"
      },
      "execution_count": null,
      "outputs": [
        {
          "output_type": "display_data",
          "data": {
            "text/plain": [
              "<Figure size 1000x600 with 1 Axes>"
            ],
            "image/png": "[encoded data removed]"
          },
          "metadata": {}
        }
      ]
    },
    {
      "cell_type": "markdown",
      "source": [
        "**Step 3: Analyze Skewness**\n",
        "\n",
        "**Interpret the Histogram:** After plotting, observe the shape of the histogram. If the histogram appears to have a longer tail on the right side, you have a right-skewed distribution (positive skewness). Conversely, if the left tail is longer, it indicates left skewness (negative skewness).\n",
        "\n",
        "**Skewness Measurement:** You can compute the skewness numerically using Pandas or SciPy to confirm your visual observations."
      ],
      "metadata": {
        "id": "h3kER-hOoYan"
      }
    },
    {
      "cell_type": "code",
      "source": [
        "from scipy.stats import skew\n",
        "\n",
        "# Calculate skewness\n",
        "data_skewness = skew(df['values'])\n",
        "print(f'Skewness: {data_skewness:.2f}')"
      ],
      "metadata": {
        "colab": {
          "base_uri": "https://localhost:8080/"
        },
        "id": "C_5ozZqHpmaS",
        "outputId": "87db0b5f-8060-46b9-e8f2-2ffc0c6d0a56"
      },
      "execution_count": null,
      "outputs": [
        {
          "output_type": "stream",
          "name": "stdout",
          "text": [
            "Skewness: 1.87\n"
          ]
        }
      ]
    },
    {
      "cell_type": "markdown",
      "source": [
        "**7.Calculate skewness and kurtosis of a dataset using python libraries.**"
      ],
      "metadata": {
        "id": "MsiLmTogppMK"
      }
    },
    {
      "cell_type": "code",
      "source": [
        "from scipy.stats import skew, kurtosis\n",
        "\n",
        "# Example dataset\n",
        "data = [12, 15, 14, 10, 8, 12, 14, 13, 15, 10]\n",
        "\n",
        "# Calculate skewness\n",
        "skewness = skew(data)\n",
        "\n",
        "# Calculate kurtosis (Fisher's definition: excess kurtosis)\n",
        "kurt = kurtosis(data)\n",
        "\n",
        "print(f\"Skewness: {skewness}\")\n",
        "print(f\"Kurtosis: {kurt}\")"
      ],
      "metadata": {
        "colab": {
          "base_uri": "https://localhost:8080/"
        },
        "id": "-xaSqJy9rw89",
        "outputId": "dd86a93d-adb3-4819-ad0a-37b6b0e73c3d"
      },
      "execution_count": null,
      "outputs": [
        {
          "output_type": "stream",
          "name": "stdout",
          "text": [
            "Skewness: -0.48475562725454696\n",
            "Kurtosis: -0.9239246058780637\n"
          ]
        }
      ]
    },
    {
      "cell_type": "markdown",
      "source": [
        "**Using pandas:**"
      ],
      "metadata": {
        "id": "Wg6HJBeisGVI"
      }
    },
    {
      "cell_type": "code",
      "source": [
        "import pandas as pd\n",
        "\n",
        "# Example dataset\n",
        "data = [12, 15, 14, 10, 8, 12, 14, 13, 15, 10]\n",
        "\n",
        "# Convert to pandas Series\n",
        "data_series = pd.Series(data)\n",
        "\n",
        "# Calculate skewness\n",
        "skewness = data_series.skew()\n",
        "\n",
        "# Calculate kurtosis (Pearson's definition: includes 3)\n",
        "kurt = data_series.kurt()\n",
        "\n",
        "print(f\"Skewness: {skewness}\")\n",
        "print(f\"Kurtosis: {kurt}\")"
      ],
      "metadata": {
        "colab": {
          "base_uri": "https://localhost:8080/"
        },
        "id": "lV0pNEi0sQHR",
        "outputId": "fce800f3-e940-462e-8b7c-f57537c5b879"
      },
      "execution_count": null,
      "outputs": [
        {
          "output_type": "stream",
          "name": "stdout",
          "text": [
            "Skewness: -0.5748494590154865\n",
            "Kurtosis: -0.6690809996772917\n"
          ]
        }
      ]
    },
    {
      "cell_type": "markdown",
      "source": [
        "**8.Generate a dataset and demonstrate positive and negetive skewness.**"
      ],
      "metadata": {
        "id": "O6CgwrAosw5A"
      }
    },
    {
      "cell_type": "markdown",
      "source": [
        "Skewness is a statistical measure that describes the asymmetry of a dataset's distribution around its mean. It indicates whether data points are skewed to one side and helps in understanding the shape of the data distribution.\n",
        "\n",
        " **Positive Skewness (Right Skew)**\n",
        "\n",
        " **Definition:** A dataset is positively skewed when it has a long tail on the right side. This means that most data points are concentrated on the left, while a few higher values pull the tail to the right.\n",
        "\n",
        " **Characteristics:**\n",
        "Mean > Median > Mode: In positively skewed distributions, the mean is typically greater than the median due to higher values skewing the mean to the right.\n",
        "\n",
        "**Examples:**\n",
        "   Common instances include income distributions (where a small number of people earn significantly more) and exam scores with a few students scoring exceptionally high while most score lower.\n",
        "\n",
        "** Implication:** Understanding positive skewness is crucial as it affects statistical analyses, especially for tests assuming normality, leading to potential overestimations if not accounted for\n",
        "Negative Skewness (Left Skew)\n",
        "\n",
        "**Definition:** A dataset is negatively skewed when it has a long tail on the left side, indicating that most data points cluster on the right, with a few lower values pulling the tail to the left.\n",
        "\n",
        "**Characteristics:**\n",
        "Mean < Median < Mode: In negatively skewed distributions, the mean is less than the median due to lower values skewing the mean to the left.\n",
        "Examples: This type of skewness can be seen in age at retirement or in standardized test scores where fewer students perform poorly.\n",
        "Implication: Recognizing negative skewness is essential in data analysis since it could lead to underestimations in statistical modeling\n"
      ],
      "metadata": {
        "id": "LuRBK28YBF7-"
      }
    },
    {
      "cell_type": "markdown",
      "source": [
        "**9.Write a python script to calculate covariance between two datasets.**"
      ],
      "metadata": {
        "id": "gbU-VLk6EG1q"
      }
    },
    {
      "cell_type": "markdown",
      "source": [
        "To calculate the covariance between two datasets in Python, you can use various methods, including the built-in statistics module or the popular NumPy library. Below are examples using both approaches.\n",
        "\n",
        "**Method 1: Using the Statistics Module**\n",
        "\n",
        "Starting from Python 3.10, you can directly calculate covariance using the statistics module."
      ],
      "metadata": {
        "id": "BDS9VJkWlHXS"
      }
    },
    {
      "cell_type": "code",
      "source": [
        "from statistics import covariance\n",
        "\n",
        "# Example datasets\n",
        "data_x = [1, 2, 3, 4, 5]\n",
        "data_y = [5, 4, 3, 2, 1]\n",
        "\n",
        "# Calculate covariance\n",
        "cov_value = covariance(data_x, data_y)\n",
        "print(\"Covariance using statistics module:\", cov_value)"
      ],
      "metadata": {
        "colab": {
          "base_uri": "https://localhost:8080/"
        },
        "id": "crpqqvOXlapZ",
        "outputId": "ab315a4b-ab5e-499d-d203-3a11e7c0e602"
      },
      "execution_count": null,
      "outputs": [
        {
          "output_type": "stream",
          "name": "stdout",
          "text": [
            "Covariance using statistics module: -2.5\n"
          ]
        }
      ]
    },
    {
      "cell_type": "markdown",
      "source": [
        "**Method 2: Using NumPy**\n",
        "\n",
        "If you need a more flexible approach, or if you are already working with arrays or matrices, NumPy is a great option."
      ],
      "metadata": {
        "id": "9FCM9k4flfcY"
      }
    },
    {
      "cell_type": "code",
      "source": [
        "import numpy as np\n",
        "\n",
        "# Example datasets\n",
        "data_x = np.array([1, 2, 3, 4, 5])\n",
        "data_y = np.array([5, 4, 3, 2, 1])\n",
        "\n",
        "# Calculate covariance matrix\n",
        "cov_matrix = np.cov(data_x, data_y)\n",
        "cov_value = cov_matrix[0][1]  # Extracting covariance value\n",
        "print(\"Covariance using NumPy:\", cov_value)"
      ],
      "metadata": {
        "colab": {
          "base_uri": "https://localhost:8080/"
        },
        "id": "TRm8g26cluzI",
        "outputId": "8924f56f-8742-431e-f128-185fba17e57c"
      },
      "execution_count": null,
      "outputs": [
        {
          "output_type": "stream",
          "name": "stdout",
          "text": [
            "Covariance using NumPy: -2.5\n"
          ]
        }
      ]
    },
    {
      "cell_type": "markdown",
      "source": [
        "**10.write a python script to calculate the correlation coefficient between two datasets.**"
      ],
      "metadata": {
        "id": "WJCj_jcEmE52"
      }
    },
    {
      "cell_type": "code",
      "source": [
        "import numpy as np\n",
        "\n",
        "def calculate_correlation_coefficient(dataset1, dataset2):\n",
        "    \"\"\"\n",
        "    Calculate the correlation coefficient between two datasets.\n",
        "\n",
        "    Parameters:\n",
        "        dataset1 (list or numpy array): First dataset\n",
        "        dataset2 (list or numpy array): Second dataset\n",
        "\n",
        "    Returns:\n",
        "        float: Correlation coefficient\n",
        "    \"\"\"\n",
        "    if len(dataset1) != len(dataset2):\n",
        "        raise ValueError(\"Datasets must have the same length.\")\n",
        "\n",
        "    # Convert to numpy arrays for easier computation\n",
        "    dataset1 = np.array(dataset1)\n",
        "    dataset2 = np.array(dataset2)\n",
        "\n",
        "    # Calculate the correlation coefficient\n",
        "    correlation_matrix = np.corrcoef(dataset1, dataset2)\n",
        "    correlation_coefficient = correlation_matrix[0, 1]\n",
        "\n",
        "    return correlation_coefficient\n",
        "\n",
        "# Example usage\n",
        "dataset1 = [1, 2, 3, 4, 5]\n",
        "dataset2 = [2, 4, 6, 8, 10]\n",
        "\n",
        "correlation = calculate_correlation_coefficient(dataset1, dataset2)\n",
        "print(f\"The correlation coefficient is: {correlation}\")"
      ],
      "metadata": {
        "colab": {
          "base_uri": "https://localhost:8080/"
        },
        "id": "4wc3M96hsEP1",
        "outputId": "1439d55e-c22e-420e-9bf4-1ec1bd352e79"
      },
      "execution_count": null,
      "outputs": [
        {
          "output_type": "stream",
          "name": "stdout",
          "text": [
            "The correlation coefficient is: 0.9999999999999999\n"
          ]
        }
      ]
    },
    {
      "cell_type": "markdown",
      "source": [
        "**11.create a scatter plot to vizualize the relationship between two variables.**"
      ],
      "metadata": {
        "id": "oyUKOBTNsHoy"
      }
    },
    {
      "cell_type": "code",
      "source": [
        "import matplotlib.pyplot as plt\n",
        "\n",
        "# Example data\n",
        "x = [1, 2, 3, 4, 5]  # Variable 1\n",
        "y = [2, 4, 1, 8, 7]  # Variable 2\n",
        "\n",
        "# Create the scatter plot\n",
        "plt.scatter(x, y, color='blue', marker='o')\n",
        "\n",
        "# Add labels and title\n",
        "plt.xlabel('Variable 1 (X-axis)')\n",
        "plt.ylabel('Variable 2 (Y-axis)')\n",
        "plt.title('Scatter Plot: Relationship Between Two Variables')\n",
        "\n",
        "# Show the plot\n",
        "plt.grid(True)  # Optional: Add grid for better readability\n",
        "plt.show()"
      ],
      "metadata": {
        "colab": {
          "base_uri": "https://localhost:8080/",
          "height": 472
        },
        "id": "DElgdlS_to-l",
        "outputId": "8b52e9d4-e26b-42ca-e535-ef8172393136"
      },
      "execution_count": null,
      "outputs": [
        {
          "output_type": "display_data",
          "data": {
            "text/plain": [
              "<Figure size 640x480 with 1 Axes>"
            ],
            "image/png": "[encoded data removed]"
          },
          "metadata": {}
        }
      ]
    },
    {
      "cell_type": "markdown",
      "source": [
        "**12.Implement and compare simple random sampling and systematic sampling.**"
      ],
      "metadata": {
        "id": "odpyqgwtttLi"
      }
    },
    {
      "cell_type": "markdown",
      "source": [
        "- **Simple Random Sampling (SRS)**\n",
        "\n",
        "**- Definition**\n",
        "\n",
        "   Simple random sampling is a technique where each member of the population has an equal chance of being selected. This method often uses random number generators or similar tools to ensure unbiased selection.\n",
        "\n",
        "- **Implementation Steps**\n",
        "\n",
        "1.**Identify the Population: **Define the complete list of individuals or items in the population you want to sample from.\n",
        "\n",
        "**2.Assign Numbers:** Assign a unique number to each member of the population.\n",
        "\n",
        "**3.Random Selection:** Use a random number generator to select a predetermined number of samples from the population list. Ensure that each selected number corresponds to a member of the population.\n",
        "\n",
        "- **Systematic Sampling (SS)**\n",
        "\n",
        "**- Definition **\n",
        "\n",
        "  Systematic sampling involves selecting individuals based on a fixed interval from a randomly chosen starting point. This means that instead of choosing completely at random, you select every (k)th individual after the initial selection.\n",
        "\n",
        " **Implementation Steps**\n",
        "\n",
        "**1.Define the Population:** Identify the total number of elements in your population.\n",
        "\n",
        "**2.Determine Sample Size:** Decide the desired sample size (n).\n",
        "\n",
        "**3.Calculate the Sampling Interval (k): **Divide the population size (N) by the sample size (n):\n",
        "                       K=N/n\n",
        "\n",
        "**4.Random Starting Point:** Choose a random starting point between 1 and k.\n",
        "\n",
        "**5.Select Elements: **From the starting point, select every (k)th individual until the desired sample size is achieved.\n",
        "\n",
        " - **Comparison of Simple Random Sampling and Systematic Sampling**\n",
        "\n",
        "** Simple Random Sampling**\n",
        "\n",
        "**Selection Process**: Random selection of individuals without pattern.\n",
        "\n",
        "**Bias**: Less prone to sampling bias\n",
        "\n",
        "**Efficiency**: May be time-consuming for large populations\n",
        "\n",
        "**Population Requirement**:Requires a complete list of the population\n",
        "\n",
        "**Representativeness**: Highly representative if done correctly\n",
        "\n",
        "**Systematic Sampling**\n",
        "\n",
        "**Selection Process:** Selects every (k)th member after random start\n",
        "\n",
        "**Bias**: Can introduce bias if there's a pattern in the population list\n",
        "\n",
        "**Efficiency **: More efficient and straightforward for large populations\n",
        "\n",
        "**Population Requirement:** Requires a complete list, but selection is easier\n",
        "\n",
        "**Representativeness**: Generally representative unless a pattern exists\n"
      ],
      "metadata": {
        "id": "cyexkHqWLCxL"
      }
    },
    {
      "cell_type": "markdown",
      "source": [
        "**13.Calculate the mean,meadian and mode of grouped data.**"
      ],
      "metadata": {
        "id": "_iwCOqeZ3QU2"
      }
    },
    {
      "cell_type": "markdown",
      "source": [
        "Mean of Grouped Data\n",
        "To calculate the mean for grouped data, follow these steps:\n",
        "\n",
        "1.**Determine Midpoints:** For each class interval, calculate the midpoi(xixi ) by averaging the lower and upper limits:\n",
        "                xi=Lower Limit+Upper Limit/2\n",
        "\n",
        "**2.Multiply and Sum:** Multiply each midpoint by the corresponding frequency(fif i ) and sum them up:Σ(fixi)Σ(f i x i )\n",
        "\n",
        "**3.Calculate Total Frequency:** Calculate the total frequency (NN)whichisthe sum of all frequencies:N=ΣfiN=Σf i\n",
        "\n",
        "**4.Apply Mean Formula:** Finally, the mean (xˉxˉ ) is given by:xˉ=Σ(fixi)Nxˉ(fi​x  )\n",
        "\n",
        "**Median of Grouped Data**\n",
        "\n",
        "To find the median of grouped data, follow these steps:\n",
        "\n",
        "**1.Calculate Total Frequency:**Find N by summing the frequencies.\n",
        "\n",
        "**2.Find Median Class:** Locate the median class, which is the class interval where the cumulative frequency surpasses N/2N/22.\n",
        "\n",
        "**3.Apply Median Formula:** The median value can be calculated using the formula:Median=l+((N/2−cf)f)⋅hMedian=l+( f(N/2−cf) )⋅h\n",
        "\n",
        "**Mode of Grouped Data**\n",
        "\n",
        "To calculate the mode of grouped data, follow these steps:\n",
        "\n",
        "**1.Determine Modal Class:** Identify the class with the highest frequency; this is the modal class.\n",
        "\n",
        "**2.Apply Mode Formula:** The mode can be calculated using the formula:\n",
        "Mode=L+((fm−fm−1)(2fm−fm−1−fm+1))⋅hMode=L+( (2f m −f m−1 −f m+1 )(fm−fm−1 ) )⋅h\n"
      ],
      "metadata": {
        "id": "WcU4497gEmhi"
      }
    },
    {
      "cell_type": "markdown",
      "source": [
        "**14.Simulate data using python and calculate its central tendency**"
      ],
      "metadata": {
        "id": "i_VCr7MNEm9d"
      }
    },
    {
      "cell_type": "code",
      "source": [
        "import numpy as np\n",
        "import pandas as pd\n",
        "from scipy import stats\n",
        "\n",
        "# Simulate data\n",
        "np.random.seed(42)  # For reproducibility\n",
        "data = np.random.randint(1, 101, 100)  # Generate 100 random integers between 1 and 100\n",
        "\n",
        "# Calculate central tendency\n",
        "mean = np.mean(data)\n",
        "median = np.median(data)\n",
        "mode = stats.mode(data)\n",
        "\n",
        "# Display results\n",
        "print(f\"Simulated Data: {data}\")\n",
        "print(f\"Mean: {mean}\")\n",
        "print(f\"Median: {median}\")\n",
        "print(f\"Mode: {mode.mode[0]}, Frequency: {mode.count[0]}\")"
      ],
      "metadata": {
        "colab": {
          "base_uri": "https://localhost:8080/",
          "height": 315
        },
        "id": "whMP-eekNmRY",
        "outputId": "bdc22a48-8dd9-453d-9e20-a5669e2a3aef"
      },
      "execution_count": null,
      "outputs": [
        {
          "output_type": "stream",
          "name": "stdout",
          "text": [
            "Simulated Data: [ 52  93  15  72  61  21  83  87  75  75  88 100  24   3  22  53   2  88\n",
            "  30  38   2  64  60  21  33  76  58  22  89  49  91  59  42  92  60  80\n",
            "  15  62  62  47  62  51  55  64   3  51   7  21  73  39  18   4  89  60\n",
            "  14   9  90  53   2  84  92  60  71  44   8  47  35  78  81  36  50   4\n",
            "   2   6  54   4  54  93  63  18  90  44  34  74  62 100  14  95  48  15\n",
            "  72  78  87  62  40  85  80  82  53  24]\n",
            "Mean: 51.54\n",
            "Median: 54.0\n"
          ]
        },
        {
          "output_type": "error",
          "ename": "IndexError",
          "evalue": "invalid index to scalar variable.",
          "traceback": [
            "\u001b[0;31m---------------------------------------------------------------------------\u001b[0m",
            "\u001b[0;31mIndexError\u001b[0m                                Traceback (most recent call last)",
            "\u001b[0;32m/tmp/ipython-input-1-2941118096.py\u001b[0m in \u001b[0;36m<cell line: 0>\u001b[0;34m()\u001b[0m\n\u001b[1;32m     16\u001b[0m \u001b[0mprint\u001b[0m\u001b[0;34m(\u001b[0m\u001b[0;34mf\"Mean: {mean}\"\u001b[0m\u001b[0;34m)\u001b[0m\u001b[0;34m\u001b[0m\u001b[0;34m\u001b[0m\u001b[0m\n\u001b[1;32m     17\u001b[0m \u001b[0mprint\u001b[0m\u001b[0;34m(\u001b[0m\u001b[0;34mf\"Median: {median}\"\u001b[0m\u001b[0;34m)\u001b[0m\u001b[0;34m\u001b[0m\u001b[0;34m\u001b[0m\u001b[0m\n\u001b[0;32m---> 18\u001b[0;31m \u001b[0mprint\u001b[0m\u001b[0;34m(\u001b[0m\u001b[0;34mf\"Mode: {mode.mode[0]}, Frequency: {mode.count[0]}\"\u001b[0m\u001b[0;34m)\u001b[0m\u001b[0;34m\u001b[0m\u001b[0;34m\u001b[0m\u001b[0m\n\u001b[0m",
            "\u001b[0;31mIndexError\u001b[0m: invalid index to scalar variable."
          ]
        }
      ]
    },
    {
      "cell_type": "markdown",
      "source": [
        "**15.Use numpy or pandas to summerize a dataset descriptive statistics.**"
      ],
      "metadata": {
        "id": "A5D8IT8uOCLc"
      }
    },
    {
      "cell_type": "markdown",
      "source": [
        "**Using Pandas for Descriptive Statistics**\n",
        "\n",
        "Pandas is an excellent library for data manipulation and analysis, especially for tabular data. Here's how to summarize a dataset using Pandas:\n",
        "**1.Load the dataset:**\n",
        "You typically use pandas.read_csv() to load your data into a DataFrame\n",
        "\n",
        "import pandas as pd\n",
        "\n",
        "df = pd.read_csv('your_dataset.csv')\n",
        "\n",
        "**2.Basic Summary Statistics: **\n",
        "Use the describe() method to generate statistics for numerical columns, including count, mean, standard deviation, min, max, and percentiles.\n",
        "\n",
        "summary = df.describe()\n",
        "print(summary)\n",
        "\n",
        "**3.Additional Statistics: **You can also calculate individual statistics such as:\n",
        "Mean: df.mean()\n",
        "Median: df.median()\n",
        "Variance: df.var()\n",
        "Standard Deviation: df.std()\n",
        "Mode: df.mode()\n",
        "Skewness: df.skew()\n",
        "Kurtosis: df.kurt()\n",
        "\n",
        "mean_values = df.mean()\n",
        "print('Mean:', mean_values)\n",
        "\n",
        "**4.Categorical Data: **\n",
        "For categorical data, describe() will return different metrics like unique values and frequency counts.\n",
        "\n",
        "categorical_summary = df['column_name'].describe()\n",
        "print(categorical_summary)\n",
        "\n",
        "**Using NumPy for Descriptive Statistics**\n",
        "\n",
        "NumPy is another powerful library for numerical operations in Python, suitable for performing descriptive statistics as well.\n",
        "**1.Load the data into a NumPy array:**\n",
        "import numpy as np\n",
        "\n",
        "data = np.genfromtxt('your_dataset.csv', delimiter=',', skip_header=1) # Assuming the first row is headers\n",
        "\n",
        "**2.Using NumPy Functions:** You can use functions from NumPy to compute various statistics:\n",
        "Mean: np.mean(data, axis=0)\n",
        "Median: np.median(data, axis=0)\n",
        "Standard Deviation: np.std(data, axis=0)\n",
        "Variance: np.var(data, axis=0)\n",
        "Minimum and Maximum: np.min(data, axis=0) and np.max(data, axis=0)\n",
        "\n",
        "mean = np.mean(data, axis=0)\n",
        "std_dev = np.std(data, axis=0)\n",
        "print('Mean:', mean)\n",
        "print('Standard Deviation:', std_dev)\n",
        "\n",
        "**3.Summary Statistics:**\n",
        "  You can summarize these together if needed for a clearer overview, although using Pandas generally provides more comprehensive results with less code.\n"
      ],
      "metadata": {
        "id": "1ShKBvmqUvUw"
      }
    },
    {
      "cell_type": "markdown",
      "source": [
        "**16.plot a boxplot to understand the spread and identify outliers.**"
      ],
      "metadata": {
        "id": "yC1oEyFAZRT1"
      }
    },
    {
      "cell_type": "code",
      "source": [
        "import matplotlib.pyplot as plt\n",
        "\n",
        "# Example data\n",
        "data = [7, 8, 9, 10, 15, 22, 25, 30, 35, 40, 100]\n",
        "\n",
        "# Create the boxplot\n",
        "plt.boxplot(data)\n",
        "\n",
        "# Add labels and title\n",
        "plt.title(\"Boxplot to Identify Outliers\")\n",
        "plt.ylabel(\"Values\")\n",
        "\n",
        "# Show the plot\n",
        "plt.show()"
      ],
      "metadata": {
        "colab": {
          "base_uri": "https://localhost:8080/",
          "height": 452
        },
        "id": "_cb-5O0jbowJ",
        "outputId": "f3ca29d7-1ee3-4998-9cfc-97f6f2c7dfa1"
      },
      "execution_count": null,
      "outputs": [
        {
          "output_type": "display_data",
          "data": {
            "text/plain": [
              "<Figure size 640x480 with 1 Axes>"
            ],
            "image/png": "[encoded data removed]"
          },
          "metadata": {}
        }
      ]
    },
    {
      "cell_type": "markdown",
      "source": [
        "**17.Calculate the interquirtile range (IQR) of a dataset.**"
      ],
      "metadata": {
        "id": "8c5R4YFIb0pD"
      }
    },
    {
      "cell_type": "markdown",
      "source": [
        "Calculate the IQR:\n",
        "Apply the formula:IQR=Q3−Q1IQR=Q3−Q1\n",
        "\n",
        "Example Calculation\n",
        "Let's say we have the following dataset:\n",
        "[5,2,8,3,9,4,7,6,10,1]\n",
        "1.Order the data:\n",
        "[1,2,3,4,5,6,7,8,9,10]\n",
        "\n",
        "2.Find the median (Q2):\n",
        "The median is 5.5(the average of 5 and 6).\n",
        "\n",
        "Calculate Q1 and Q3:\n",
        "Lower half: [1,2,3,4,5]→Q1=3\n",
        "Upper half: [6,7,8,9,10]→Q3=8\n",
        "\n",
        "Calculate IQR: IQR=Q3−Q1=8−3=5\n"
      ],
      "metadata": {
        "id": "oteB-gJhfBVJ"
      }
    },
    {
      "cell_type": "markdown",
      "source": [
        "**18.Implement z-score normalization and explain the significance.**"
      ],
      "metadata": {
        "id": "CtTtZkLddhLq"
      }
    },
    {
      "cell_type": "code",
      "source": [
        "import numpy as np\n",
        "\n",
        "# Sample data\n",
        "data = np.array([70, 80, 90, 100, 110, 130, 150])\n",
        "\n",
        "# Step 1: Calculate mean and standard deviation\n",
        "mean = np.mean(data)\n",
        "std_dev = np.std(data)\n",
        "\n",
        "# Step 2: Perform Z-score normalization\n",
        "z_scores = (data - mean) / std_dev\n",
        "\n",
        "print(\"Z-scores:\", z_scores)"
      ],
      "metadata": {
        "colab": {
          "base_uri": "https://localhost:8080/"
        },
        "id": "Bx5lIcXVFkYo",
        "outputId": "c84969e6-4957-46de-af38-93ecb4aacdfd"
      },
      "execution_count": null,
      "outputs": [
        {
          "output_type": "stream",
          "name": "stdout",
          "text": [
            "Z-scores: [-1.31322157 -0.93019861 -0.54717566 -0.1641527   0.21887026  0.98491618\n",
            "  1.7509621 ]\n"
          ]
        }
      ]
    },
    {
      "cell_type": "markdown",
      "source": [
        "**significance of z-score normalization**\n",
        "\n",
        "**1.Machine Learning: **Used to improve the performance of algorithms such as k-NN, SVM, and models relying on distance measures.\n",
        "\n",
        "2Statistical Analysis: Aids in hypothesis testing and quality control within various fields, including finance and healthcare\n",
        "2\n",
        ".\n",
        "Data Mining: Essential in clustering and classification tasks where features need to be on the same scale.\n",
        "\n"
      ],
      "metadata": {
        "id": "F9kw0qlgF80I"
      }
    },
    {
      "cell_type": "markdown",
      "source": [
        "**19.compare two datasets using their standards deviation.**"
      ],
      "metadata": {
        "id": "vGFFSfHYfu27"
      }
    },
    {
      "cell_type": "markdown",
      "source": [
        "  To compare two datasets using their standard deviations, you commonly compare their variances via a rule of thumb or perform a formal F-test to assess if their variability differs significantly\n",
        "\n",
        "**Method 1: Rule of Thumb for Comparing Variances**\n",
        "\n",
        "  - Calculate the variance for each dataset by squaring the standard deviation.\n",
        "\n",
        "  - Then calculate the ratio of the larger variance to the smaller variance.\n",
        "\n",
        "  - If the ratio is less than 4, assume the variances are approximately equal (thus, similar variability).\n",
        "\n",
        "  - If the ratio is equal to or greater than 4, assume the variances and hence the standard deviations are not equal.\n",
        "\n",
        "  \"One crude way to determine if two variances are equal is to use the variance rule of thumb. As a rule of thumb, if the ratio of the larger variance to the smaller variance is less than 4 then we can assume the variances are approximately equal. Otherwise...equal or greater than 4, we assume that the variances are not equal.\"\n",
        "\n",
        "  This method is a quick check without formal hypothesis testing and can guide decisions in exploratory analysis.\n"
      ],
      "metadata": {
        "id": "fo_UHG1ENOEa"
      }
    },
    {
      "cell_type": "markdown",
      "source": [
        "**20.Write a python program to visualize covariance using a heatmap.**"
      ],
      "metadata": {
        "id": "BjnVmHYUOThp"
      }
    },
    {
      "cell_type": "code",
      "source": [
        "import numpy as np\n",
        "import pandas as pd\n",
        "import seaborn as sns\n",
        "import matplotlib.pyplot as plt\n",
        "# Create a sample dataset - replace with your data if needed\n",
        "data = {\n",
        "    'X': np.random.normal(0, 1, 100),\n",
        "    'Y': np.random.normal(5, 2, 100),\n",
        "    'Z': np.random.normal(-3, 1, 100)\n",
        "}\n",
        "df = pd.DataFrame(data)\n",
        "# Calculate the covariance matrix\n",
        "cov_matrix = df.cov()\n",
        "# Set up the matplotlib figure\n",
        "plt.figure(figsize=(8, 6))\n",
        "# Draw the heatmap with the mask and correct aspect ratio\n",
        "sns.heatmap(cov_matrix, annot=True, cmap='coolwarm', center=0, linewidths=0.5, square=True)\n",
        "# Add titles and labels if desired\n",
        "plt.title('Covariance Matrix Heatmap')\n",
        "plt.show()"
      ],
      "metadata": {
        "colab": {
          "base_uri": "https://localhost:8080/",
          "height": 545
        },
        "id": "UW9khDbXPnn_",
        "outputId": "9365e850-8255-4c8e-b41a-0999bea8790f"
      },
      "execution_count": null,
      "outputs": [
        {
          "output_type": "display_data",
          "data": {
            "text/plain": [
              "<Figure size 800x600 with 2 Axes>"
            ],
            "image/png": "[encoded data removed]"
          },
          "metadata": {}
        }
      ]
    },
    {
      "cell_type": "markdown",
      "source": [
        "**21.use seaborn to create a correlation matrix for a dataset.**"
      ],
      "metadata": {
        "id": "fpmfRb9KPyFC"
      }
    },
    {
      "cell_type": "code",
      "source": [
        "import pandas as pd\n",
        "import seaborn as sns\n",
        "import matplotlib.pyplot as plt\n",
        "\n",
        "# Example: Load a dataset (replace with your own dataset)\n",
        "# For demonstration, we'll use the built-in 'iris' dataset\n",
        "df = sns.load_dataset('iris')\n",
        "\n",
        "# Compute the correlation matrix\n",
        "correlation_matrix = df.corr(numeric_only=True)\n",
        "\n",
        "# Create a heatmap using Seaborn\n",
        "plt.figure(figsize=(8, 6))\n",
        "sns.heatmap(correlation_matrix, annot=True, cmap='coolwarm', fmt=\".2f\", linewidths=0.5)\n",
        "\n",
        "# Add a title\n",
        "plt.title('Correlation Matrix Heatmap')\n",
        "\n",
        "# Show the plot\n",
        "plt.show()"
      ],
      "metadata": {
        "colab": {
          "base_uri": "https://localhost:8080/",
          "height": 545
        },
        "id": "BKVF9ic9ROid",
        "outputId": "02243d1f-9f6a-4a37-b553-2eba9dcd81a5"
      },
      "execution_count": null,
      "outputs": [
        {
          "output_type": "display_data",
          "data": {
            "text/plain": [
              "<Figure size 800x600 with 2 Axes>"
            ],
            "image/png": "[encoded data removed]"
          },
          "metadata": {}
        }
      ]
    },
    {
      "cell_type": "markdown",
      "source": [
        "**22.Generate a dataset and implement both variance and standard deviation computations.**"
      ],
      "metadata": {
        "id": "qIVY7_4CR9Nv"
      }
    },
    {
      "cell_type": "code",
      "source": [
        "import numpy as np\n",
        "# Generating a dataset of 100 random integers between 1 and 100\n",
        "data = np.random.randint(1, 101, 100)\n",
        "print(\"Generated Dataset:\", data)\n",
        "# Calculating the mean\n",
        "mean = np.mean(data)\n",
        "print(\"Mean:\", mean)\n",
        "# Calculating the variance\n",
        "variance = np.var(data)\n",
        "print(\"Variance:\", variance)\n",
        "# Calculating the standard deviation\n",
        "std_deviation = np.std(data)\n",
        "print(\"Standard Deviation:\", std_deviation)"
      ],
      "metadata": {
        "colab": {
          "base_uri": "https://localhost:8080/"
        },
        "id": "cwBaEGyj3UyE",
        "outputId": "166188e0-a334-48c0-8498-2d6bf3bedb15"
      },
      "execution_count": null,
      "outputs": [
        {
          "output_type": "stream",
          "name": "stdout",
          "text": [
            "Generated Dataset: [47 12 74 91 42 56 61 35 30 59 48 38 33  6 83 80 23 44 29 12 62 35 57 82\n",
            " 53 98 97 33 62 92 92 22 53 44  9 60 83 67 57 77  8 23 82 63 10 12  5 93\n",
            " 60 72 73 65  2 23  9 68 73 63 94 68 69 48 65 66 46 16 50 98 46 16 77 52\n",
            " 54 12 75 46 20 65 62 34 28 25 43 56  9 41 96 65 94 67 89 63 16 88 49 30\n",
            " 76 76 77 34]\n",
            "Mean: 52.43\n",
            "Variance: 700.9050999999998\n",
            "Standard Deviation: 26.47461236732277\n"
          ]
        }
      ]
    },
    {
      "cell_type": "markdown",
      "source": [
        "**23.Visualize skewness and kurtosis using python libraries like matplotlib or  seabon.**"
      ],
      "metadata": {
        "id": "o3EjtOsl-ZMN"
      }
    },
    {
      "cell_type": "code",
      "source": [
        "import numpy as np\n",
        "import pandas as pd\n",
        "import seaborn as sns\n",
        "import matplotlib.pyplot as plt\n",
        "from scipy.stats import skew, kurtosis\n",
        "\n",
        "# Generate a sample dataset\n",
        "np.random.seed(42)\n",
        "data = np.random.normal(loc=0, scale=1, size=1000)  # Normally distributed data\n",
        "\n",
        "# Calculate skewness and kurtosis\n",
        "data_skewness = skew(data)\n",
        "data_kurtosis = kurtosis(data, fisher=True)  # Fisher=True gives excess kurtosis\n",
        "\n",
        "# Plot the distribution\n",
        "plt.figure(figsize=(12, 6))\n",
        "\n",
        "# Histogram with KDE\n",
        "sns.histplot(data, kde=True, bins=30, color='skyblue', edgecolor='black')\n",
        "plt.title(f\"Distribution with Skewness: {data_skewness:.2f}, Kurtosis: {data_kurtosis:.2f}\", fontsize=14)\n",
        "plt.xlabel(\"Value\", fontsize=12)\n",
        "plt.ylabel(\"Frequency\", fontsize=12)\n",
        "\n",
        "# Add vertical lines for mean and median\n",
        "plt.axvline(np.mean(data), color='red', linestyle='--', label='Mean')\n",
        "plt.axvline(np.median(data), color='green', linestyle='--', label='Median')\n",
        "plt.legend()\n",
        "\n",
        "plt.show()"
      ],
      "metadata": {
        "colab": {
          "base_uri": "https://localhost:8080/",
          "height": 569
        },
        "id": "aYY6g6KiB39y",
        "outputId": "0e36a4e1-7136-43eb-e4d2-bb71bcdfc6c2"
      },
      "execution_count": null,
      "outputs": [
        {
          "output_type": "display_data",
          "data": {
            "text/plain": [
              "<Figure size 1200x600 with 1 Axes>"
            ],
            "image/png": "[encoded data removed]"
          },
          "metadata": {}
        }
      ]
    },
    {
      "cell_type": "markdown",
      "source": [
        "**24.Implement the pearson and spearman correlation coefficients for dataset.**"
      ],
      "metadata": {
        "id": "ysXh_wFkB-RG"
      }
    },
    {
      "cell_type": "code",
      "source": [
        "import pandas as pd\n",
        "\n",
        "# Creating a sample dataset\n",
        "data = pd.DataFrame({\n",
        "    'X': [1, 2, 3, 4, 5],\n",
        "    'Y': [2, 3, 5, 7, 11],\n",
        "    'Z': [5, 6, 7, 8, 9]\n",
        "})\n",
        "\n",
        "# Pearson correlation\n",
        "pearson_corr = data.corr(method='pearson')\n",
        "print(\"Pearson Correlation Coefficient:\", pearson_corr)\n",
        "\n",
        "# Spearman correlation\n",
        "spearman_corr = data.corr(method='spearman')\n",
        "print(\"Spearman Correlation Coefficient:\", spearman_corr)"
      ],
      "metadata": {
        "colab": {
          "base_uri": "https://localhost:8080/"
        },
        "id": "d38szFm2sBd6",
        "outputId": "a5b9bdd4-c47e-48ad-c240-1c8a1665f760"
      },
      "execution_count": 4,
      "outputs": [
        {
          "output_type": "stream",
          "name": "stdout",
          "text": [
            "Pearson Correlation Coefficient:           X         Y         Z\n",
            "X  1.000000  0.972272  1.000000\n",
            "Y  0.972272  1.000000  0.972272\n",
            "Z  1.000000  0.972272  1.000000\n",
            "Spearman Correlation Coefficient:      X    Y    Z\n",
            "X  1.0  1.0  1.0\n",
            "Y  1.0  1.0  1.0\n",
            "Z  1.0  1.0  1.0\n"
          ]
        }
      ]
    }
  ]
}